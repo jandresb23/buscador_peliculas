{
 "cells": [
  {
   "cell_type": "markdown",
   "metadata": {},
   "source": [
    "## Instalando dependencias necesarias"
   ]
  },
  {
   "cell_type": "code",
   "execution_count": 1,
   "metadata": {},
   "outputs": [
    {
     "name": "stdout",
     "output_type": "stream",
     "text": [
      "Requirement already satisfied: pandas in c:\\users\\dido0\\appdata\\local\\programs\\python\\python310\\lib\\site-packages (2.2.3)\n",
      "Requirement already satisfied: numpy>=1.22.4 in c:\\users\\dido0\\appdata\\local\\programs\\python\\python310\\lib\\site-packages (from pandas) (1.26.4)\n",
      "Requirement already satisfied: python-dateutil>=2.8.2 in c:\\users\\dido0\\appdata\\roaming\\python\\python310\\site-packages (from pandas) (2.9.0.post0)\n",
      "Requirement already satisfied: pytz>=2020.1 in c:\\users\\dido0\\appdata\\local\\programs\\python\\python310\\lib\\site-packages (from pandas) (2024.1)\n",
      "Requirement already satisfied: tzdata>=2022.7 in c:\\users\\dido0\\appdata\\local\\programs\\python\\python310\\lib\\site-packages (from pandas) (2024.1)\n",
      "Requirement already satisfied: six>=1.5 in c:\\users\\dido0\\appdata\\roaming\\python\\python310\\site-packages (from python-dateutil>=2.8.2->pandas) (1.16.0)\n",
      "Note: you may need to restart the kernel to use updated packages.\n",
      "Requirement already satisfied: sentence-transformers in c:\\users\\dido0\\appdata\\local\\programs\\python\\python310\\lib\\site-packages (3.1.1)\n",
      "Requirement already satisfied: pandas in c:\\users\\dido0\\appdata\\local\\programs\\python\\python310\\lib\\site-packages (2.2.3)\n",
      "Requirement already satisfied: transformers<5.0.0,>=4.38.0 in c:\\users\\dido0\\appdata\\local\\programs\\python\\python310\\lib\\site-packages (from sentence-transformers) (4.45.2)\n",
      "Requirement already satisfied: tqdm in c:\\users\\dido0\\appdata\\local\\programs\\python\\python310\\lib\\site-packages (from sentence-transformers) (4.66.5)\n",
      "Requirement already satisfied: torch>=1.11.0 in c:\\users\\dido0\\appdata\\local\\programs\\python\\python310\\lib\\site-packages (from sentence-transformers) (2.4.1)\n",
      "Requirement already satisfied: scikit-learn in c:\\users\\dido0\\appdata\\local\\programs\\python\\python310\\lib\\site-packages (from sentence-transformers) (1.5.2)\n",
      "Requirement already satisfied: scipy in c:\\users\\dido0\\appdata\\local\\programs\\python\\python310\\lib\\site-packages (from sentence-transformers) (1.14.1)\n",
      "Requirement already satisfied: huggingface-hub>=0.19.3 in c:\\users\\dido0\\appdata\\local\\programs\\python\\python310\\lib\\site-packages (from sentence-transformers) (0.25.1)\n",
      "Requirement already satisfied: Pillow in c:\\users\\dido0\\appdata\\local\\programs\\python\\python310\\lib\\site-packages (from sentence-transformers) (10.4.0)\n",
      "Requirement already satisfied: numpy>=1.22.4 in c:\\users\\dido0\\appdata\\local\\programs\\python\\python310\\lib\\site-packages (from pandas) (1.26.4)\n",
      "Requirement already satisfied: python-dateutil>=2.8.2 in c:\\users\\dido0\\appdata\\roaming\\python\\python310\\site-packages (from pandas) (2.9.0.post0)\n",
      "Requirement already satisfied: pytz>=2020.1 in c:\\users\\dido0\\appdata\\local\\programs\\python\\python310\\lib\\site-packages (from pandas) (2024.1)\n",
      "Requirement already satisfied: tzdata>=2022.7 in c:\\users\\dido0\\appdata\\local\\programs\\python\\python310\\lib\\site-packages (from pandas) (2024.1)\n",
      "Requirement already satisfied: filelock in c:\\users\\dido0\\appdata\\local\\programs\\python\\python310\\lib\\site-packages (from huggingface-hub>=0.19.3->sentence-transformers) (3.13.1)\n",
      "Requirement already satisfied: fsspec>=2023.5.0 in c:\\users\\dido0\\appdata\\local\\programs\\python\\python310\\lib\\site-packages (from huggingface-hub>=0.19.3->sentence-transformers) (2024.9.0)\n",
      "Requirement already satisfied: packaging>=20.9 in c:\\users\\dido0\\appdata\\roaming\\python\\python310\\site-packages (from huggingface-hub>=0.19.3->sentence-transformers) (24.0)\n",
      "Requirement already satisfied: pyyaml>=5.1 in c:\\users\\dido0\\appdata\\local\\programs\\python\\python310\\lib\\site-packages (from huggingface-hub>=0.19.3->sentence-transformers) (6.0.2)\n",
      "Requirement already satisfied: requests in c:\\users\\dido0\\appdata\\local\\programs\\python\\python310\\lib\\site-packages (from huggingface-hub>=0.19.3->sentence-transformers) (2.31.0)\n",
      "Requirement already satisfied: typing-extensions>=3.7.4.3 in c:\\users\\dido0\\appdata\\roaming\\python\\python310\\site-packages (from huggingface-hub>=0.19.3->sentence-transformers) (4.11.0)\n",
      "Requirement already satisfied: six>=1.5 in c:\\users\\dido0\\appdata\\roaming\\python\\python310\\site-packages (from python-dateutil>=2.8.2->pandas) (1.16.0)\n",
      "Requirement already satisfied: sympy in c:\\users\\dido0\\appdata\\local\\programs\\python\\python310\\lib\\site-packages (from torch>=1.11.0->sentence-transformers) (1.13.2)\n",
      "Requirement already satisfied: networkx in c:\\users\\dido0\\appdata\\local\\programs\\python\\python310\\lib\\site-packages (from torch>=1.11.0->sentence-transformers) (3.3)\n",
      "Requirement already satisfied: jinja2 in c:\\users\\dido0\\appdata\\local\\programs\\python\\python310\\lib\\site-packages (from torch>=1.11.0->sentence-transformers) (3.1.4)\n",
      "Requirement already satisfied: colorama in c:\\users\\dido0\\appdata\\local\\programs\\python\\python310\\lib\\site-packages (from tqdm->sentence-transformers) (0.4.4)\n",
      "Requirement already satisfied: regex!=2019.12.17 in c:\\users\\dido0\\appdata\\local\\programs\\python\\python310\\lib\\site-packages (from transformers<5.0.0,>=4.38.0->sentence-transformers) (2024.9.11)\n",
      "Requirement already satisfied: safetensors>=0.4.1 in c:\\users\\dido0\\appdata\\local\\programs\\python\\python310\\lib\\site-packages (from transformers<5.0.0,>=4.38.0->sentence-transformers) (0.4.5)\n",
      "Requirement already satisfied: tokenizers<0.21,>=0.20 in c:\\users\\dido0\\appdata\\local\\programs\\python\\python310\\lib\\site-packages (from transformers<5.0.0,>=4.38.0->sentence-transformers) (0.20.0)\n",
      "Requirement already satisfied: joblib>=1.2.0 in c:\\users\\dido0\\appdata\\local\\programs\\python\\python310\\lib\\site-packages (from scikit-learn->sentence-transformers) (1.4.2)\n",
      "Requirement already satisfied: threadpoolctl>=3.1.0 in c:\\users\\dido0\\appdata\\local\\programs\\python\\python310\\lib\\site-packages (from scikit-learn->sentence-transformers) (3.5.0)\n",
      "Requirement already satisfied: MarkupSafe>=2.0 in c:\\users\\dido0\\appdata\\local\\programs\\python\\python310\\lib\\site-packages (from jinja2->torch>=1.11.0->sentence-transformers) (2.1.5)\n",
      "Requirement already satisfied: charset-normalizer<4,>=2 in c:\\users\\dido0\\appdata\\local\\programs\\python\\python310\\lib\\site-packages (from requests->huggingface-hub>=0.19.3->sentence-transformers) (3.3.2)\n",
      "Requirement already satisfied: idna<4,>=2.5 in c:\\users\\dido0\\appdata\\local\\programs\\python\\python310\\lib\\site-packages (from requests->huggingface-hub>=0.19.3->sentence-transformers) (3.7)\n",
      "Requirement already satisfied: urllib3<3,>=1.21.1 in c:\\users\\dido0\\appdata\\local\\programs\\python\\python310\\lib\\site-packages (from requests->huggingface-hub>=0.19.3->sentence-transformers) (1.26.19)\n",
      "Requirement already satisfied: certifi>=2017.4.17 in c:\\users\\dido0\\appdata\\local\\programs\\python\\python310\\lib\\site-packages (from requests->huggingface-hub>=0.19.3->sentence-transformers) (2024.2.2)\n",
      "Requirement already satisfied: mpmath<1.4,>=1.1.0 in c:\\users\\dido0\\appdata\\local\\programs\\python\\python310\\lib\\site-packages (from sympy->torch>=1.11.0->sentence-transformers) (1.3.0)\n",
      "Note: you may need to restart the kernel to use updated packages.\n"
     ]
    }
   ],
   "source": [
    "%%capture\n",
    "%pip install pandas\n",
    "%pip install -U sentence-transformers pandas"
   ]
  },
  {
   "cell_type": "code",
   "execution_count": 1,
   "metadata": {},
   "outputs": [
    {
     "name": "stderr",
     "output_type": "stream",
     "text": [
      "c:\\Users\\dido0\\AppData\\Local\\Programs\\Python\\Python310\\lib\\site-packages\\sentence_transformers\\cross_encoder\\CrossEncoder.py:13: TqdmWarning: IProgress not found. Please update jupyter and ipywidgets. See https://ipywidgets.readthedocs.io/en/stable/user_install.html\n",
      "  from tqdm.autonotebook import tqdm, trange\n"
     ]
    }
   ],
   "source": [
    "import pandas as pd\n",
    "from sentence_transformers import SentenceTransformer, util"
   ]
  },
  {
   "cell_type": "markdown",
   "metadata": {},
   "source": [
    "## Entendiendo el dataset"
   ]
  },
  {
   "cell_type": "code",
   "execution_count": 2,
   "metadata": {},
   "outputs": [],
   "source": [
    "# https://www.kaggle.com/datasets/omarhanyy/imdb-top-1000?resource=download\n",
    "# TODO: Cargar el archivo del dataset con  pandas"
   ]
  },
  {
   "cell_type": "code",
   "execution_count": 2,
   "metadata": {},
   "outputs": [
    {
     "name": "stdout",
     "output_type": "stream",
     "text": [
      "   Unnamed: 0                                              Title Certificate  \\\n",
      "0           0                 1. The Shawshank Redemption (1994)           R   \n",
      "1           1                            2. The Godfather (1972)           R   \n",
      "2           2                          3. The Dark Knight (2008)       PG-13   \n",
      "3           3                   4. The Godfather: Part II (1974)           R   \n",
      "4           4  5. The Lord of the Rings: The Return of the Ki...       PG-13   \n",
      "\n",
      "  Duration                     Genre  Rate  Metascore  \\\n",
      "0  142 min                     Drama   9.3       80.0   \n",
      "1  175 min              Crime, Drama   9.2      100.0   \n",
      "2  152 min      Action, Crime, Drama   9.0       84.0   \n",
      "3  202 min              Crime, Drama   9.0       90.0   \n",
      "4  201 min  Action, Adventure, Drama   8.9       94.0   \n",
      "\n",
      "                                         Description  \\\n",
      "0  Two imprisoned men bond over a number of years...   \n",
      "1  The aging patriarch of an organized crime dyna...   \n",
      "2  When the menace known as the Joker wreaks havo...   \n",
      "3  The early life and career of Vito Corleone in ...   \n",
      "4  Gandalf and Aragorn lead the World of Men agai...   \n",
      "\n",
      "                                                Cast  \\\n",
      "0  Director: Frank Darabont | Stars: Tim Robbins,...   \n",
      "1  Director: Francis Ford Coppola | Stars: Marlon...   \n",
      "2  Director: Christopher Nolan | Stars: Christian...   \n",
      "3  Director: Francis Ford Coppola | Stars: Al Pac...   \n",
      "4  Director: Peter Jackson | Stars: Elijah Wood, ...   \n",
      "\n",
      "                                 Info  \n",
      "0   Votes: 2,295,987 | Gross: $28.34M  \n",
      "1  Votes: 1,584,782 | Gross: $134.97M  \n",
      "2  Votes: 2,260,649 | Gross: $534.86M  \n",
      "3   Votes: 1,107,253 | Gross: $57.30M  \n",
      "4  Votes: 1,614,369 | Gross: $377.85M  \n"
     ]
    }
   ],
   "source": [
    "df = pd.read_csv('./resources/IMDB top 1000.csv')\n",
    "print(df.head())\n",
    "# TODO: mostrar los primeros 5 registros de dataframe"
   ]
  },
  {
   "cell_type": "markdown",
   "metadata": {},
   "source": [
    "## Usando Sentence Transformer para crear embeddings"
   ]
  },
  {
   "cell_type": "code",
   "execution_count": 4,
   "metadata": {},
   "outputs": [],
   "source": [
    "model = SentenceTransformer('sentence-transformers/all-MiniLM-L6-v2')"
   ]
  },
  {
   "cell_type": "code",
   "execution_count": 6,
   "metadata": {},
   "outputs": [
    {
     "name": "stderr",
     "output_type": "stream",
     "text": [
      "Batches:   0%|          | 0/16 [00:00<?, ?it/s]"
     ]
    },
    {
     "name": "stderr",
     "output_type": "stream",
     "text": [
      "Batches: 100%|██████████| 16/16 [00:02<00:00,  7.09it/s]\n"
     ]
    }
   ],
   "source": [
    "embeddings = model.encode(df['Description'],batch_size=64,show_progress_bar=True)\n",
    "#embeddings = model.encode(df['Title'],batch_size=64,show_progress_bar=True)"
   ]
  },
  {
   "cell_type": "code",
   "execution_count": 10,
   "metadata": {},
   "outputs": [
    {
     "name": "stdout",
     "output_type": "stream",
     "text": [
      "[[-0.06326339  0.04146248 -0.04707528 ... -0.03055874 -0.01641737\n",
      "  -0.01581548]\n",
      " [-0.02941306  0.01056768 -0.06267845 ... -0.01904772  0.03727178\n",
      "  -0.09891069]\n",
      " [ 0.0188879   0.05393049 -0.07068748 ...  0.07443296  0.05758373\n",
      "  -0.01486044]\n",
      " ...\n",
      " [-0.01988258  0.015605   -0.02492197 ...  0.00143385 -0.00423387\n",
      "  -0.00137197]\n",
      " [-0.09367283  0.00152869 -0.00855557 ... -0.05445856  0.00994894\n",
      "   0.03317662]\n",
      " [-0.06126129 -0.03122352  0.01081085 ... -0.0570876   0.02968132\n",
      "  -0.03955578]]\n"
     ]
    }
   ],
   "source": [
    "df['embeddings'] = embeddings.tolist()\n",
    "print(embeddings)"
   ]
  },
  {
   "cell_type": "markdown",
   "metadata": {},
   "source": [
    "## Calculando la similitud usando la métrica de similitud por coseno"
   ]
  },
  {
   "cell_type": "code",
   "execution_count": 8,
   "metadata": {},
   "outputs": [],
   "source": [
    "def compute_similarity(example, query_embedding):\n",
    "    embedding = example['embeddings'] \n",
    "    similarity = util.cos_sim(embedding, query_embedding).item()\n",
    "    return similarity"
   ]
  },
  {
   "cell_type": "markdown",
   "metadata": {},
   "source": [
    "## Ejecutando la búsqueda "
   ]
  },
  {
   "cell_type": "code",
   "execution_count": 28,
   "metadata": {},
   "outputs": [
    {
     "data": {
      "text/html": [
       "<div>\n",
       "<style scoped>\n",
       "    .dataframe tbody tr th:only-of-type {\n",
       "        vertical-align: middle;\n",
       "    }\n",
       "\n",
       "    .dataframe tbody tr th {\n",
       "        vertical-align: top;\n",
       "    }\n",
       "\n",
       "    .dataframe thead th {\n",
       "        text-align: right;\n",
       "    }\n",
       "</style>\n",
       "<table border=\"1\" class=\"dataframe\">\n",
       "  <thead>\n",
       "    <tr style=\"text-align: right;\">\n",
       "      <th></th>\n",
       "      <th>Title</th>\n",
       "      <th>Certificate | Genre</th>\n",
       "    </tr>\n",
       "  </thead>\n",
       "  <tbody>\n",
       "    <tr>\n",
       "      <th>585</th>\n",
       "      <td>388. Central Station (1998)</td>\n",
       "      <td>R | Drama</td>\n",
       "    </tr>\n",
       "    <tr>\n",
       "      <th>745</th>\n",
       "      <td>348. Darbareye Elly (2009)</td>\n",
       "      <td>TV-PG | Drama, Mystery, Thriller</td>\n",
       "    </tr>\n",
       "    <tr>\n",
       "      <th>134</th>\n",
       "      <td>135. Klaus (2019)</td>\n",
       "      <td>PG | Animation, Adventure, Comedy</td>\n",
       "    </tr>\n",
       "    <tr>\n",
       "      <th>303</th>\n",
       "      <td>306. Ace in the Hole (1951)</td>\n",
       "      <td>Approved | Drama, Film-Noir</td>\n",
       "    </tr>\n",
       "    <tr>\n",
       "      <th>126</th>\n",
       "      <td>127. Metropolis (1927)</td>\n",
       "      <td>Not Rated | Drama, Sci-Fi</td>\n",
       "    </tr>\n",
       "  </tbody>\n",
       "</table>\n",
       "</div>"
      ],
      "text/plain": [
       "                           Title                Certificate | Genre\n",
       "585  388. Central Station (1998)                          R | Drama\n",
       "745   348. Darbareye Elly (2009)   TV-PG | Drama, Mystery, Thriller\n",
       "134            135. Klaus (2019)  PG | Animation, Adventure, Comedy\n",
       "303  306. Ace in the Hole (1951)        Approved | Drama, Film-Noir\n",
       "126       127. Metropolis (1927)          Not Rated | Drama, Sci-Fi"
      ]
     },
     "execution_count": 28,
     "metadata": {},
     "output_type": "execute_result"
    }
   ],
   "source": [
    "query_embedding = model.encode(['a travel time adventure'])[0]\n",
    "df['similarity'] = df.apply(lambda x: compute_similarity(x, query_embedding), axis=1)\n",
    "\n",
    "# Aumentar contexto --> \"Certificate\" + \"Genre\"\n",
    "df['Certificate | Genre'] = df['Certificate'].astype(str) + ' | ' + df['Genre'].astype(str)\n",
    "\n",
    "\n",
    "df = df.sort_values(by='similarity', ascending=False)\n",
    "\n",
    "df.head()[['Title','Certificate | Genre']]\n",
    "#df.head()[['Title','Classification']].drop_duplicates()"
   ]
  },
  {
   "cell_type": "code",
   "execution_count": 11,
   "metadata": {},
   "outputs": [
    {
     "data": {
      "text/html": [
       "<div>\n",
       "<style scoped>\n",
       "    .dataframe tbody tr th:only-of-type {\n",
       "        vertical-align: middle;\n",
       "    }\n",
       "\n",
       "    .dataframe tbody tr th {\n",
       "        vertical-align: top;\n",
       "    }\n",
       "\n",
       "    .dataframe thead th {\n",
       "        text-align: right;\n",
       "    }\n",
       "</style>\n",
       "<table border=\"1\" class=\"dataframe\">\n",
       "  <thead>\n",
       "    <tr style=\"text-align: right;\">\n",
       "      <th></th>\n",
       "      <th>Unnamed: 0</th>\n",
       "      <th>Title</th>\n",
       "      <th>Certificate</th>\n",
       "      <th>Duration</th>\n",
       "      <th>Genre</th>\n",
       "      <th>Rate</th>\n",
       "      <th>Metascore</th>\n",
       "      <th>Description</th>\n",
       "      <th>Cast</th>\n",
       "      <th>Info</th>\n",
       "      <th>embeddings</th>\n",
       "      <th>similarity</th>\n",
       "    </tr>\n",
       "  </thead>\n",
       "  <tbody>\n",
       "    <tr>\n",
       "      <th>72</th>\n",
       "      <td>72</td>\n",
       "      <td>73. The Shining (1980)</td>\n",
       "      <td>R</td>\n",
       "      <td>146 min</td>\n",
       "      <td>Drama, Horror</td>\n",
       "      <td>8.4</td>\n",
       "      <td>66.0</td>\n",
       "      <td>A family heads to an isolated hotel for the wi...</td>\n",
       "      <td>Director: Stanley Kubrick | Stars: Jack Nichol...</td>\n",
       "      <td>Votes: 877,721 | Gross: $44.02M</td>\n",
       "      <td>[-0.02941306307911873, 0.010567683726549149, -...</td>\n",
       "      <td>0.417388</td>\n",
       "    </tr>\n",
       "  </tbody>\n",
       "</table>\n",
       "</div>"
      ],
      "text/plain": [
       "    Unnamed: 0                   Title Certificate Duration          Genre  \\\n",
       "72          72  73. The Shining (1980)           R  146 min  Drama, Horror   \n",
       "\n",
       "    Rate  Metascore                                        Description  \\\n",
       "72   8.4       66.0  A family heads to an isolated hotel for the wi...   \n",
       "\n",
       "                                                 Cast  \\\n",
       "72  Director: Stanley Kubrick | Stars: Jack Nichol...   \n",
       "\n",
       "                               Info  \\\n",
       "72  Votes: 877,721 | Gross: $44.02M   \n",
       "\n",
       "                                           embeddings  similarity  \n",
       "72  [-0.02941306307911873, 0.010567683726549149, -...    0.417388  "
      ]
     },
     "execution_count": 11,
     "metadata": {},
     "output_type": "execute_result"
    }
   ],
   "source": [
    "df[df['Title'] == '73. The Shining (1980)']"
   ]
  },
  {
   "cell_type": "code",
   "execution_count": 12,
   "metadata": {},
   "outputs": [
    {
     "data": {
      "text/plain": [
       "'A family heads to an isolated hotel for the winter where a sinister presence influences the father into violence, while his psychic son sees horrific forebodings from both past and future.'"
      ]
     },
     "execution_count": 12,
     "metadata": {},
     "output_type": "execute_result"
    }
   ],
   "source": [
    "df.loc[72,'Description']"
   ]
  },
  {
   "cell_type": "code",
   "execution_count": 16,
   "metadata": {},
   "outputs": [
    {
     "data": {
      "text/html": [
       "<div>\n",
       "<style scoped>\n",
       "    .dataframe tbody tr th:only-of-type {\n",
       "        vertical-align: middle;\n",
       "    }\n",
       "\n",
       "    .dataframe tbody tr th {\n",
       "        vertical-align: top;\n",
       "    }\n",
       "\n",
       "    .dataframe thead th {\n",
       "        text-align: right;\n",
       "    }\n",
       "</style>\n",
       "<table border=\"1\" class=\"dataframe\">\n",
       "  <thead>\n",
       "    <tr style=\"text-align: right;\">\n",
       "      <th></th>\n",
       "      <th>Unnamed: 0</th>\n",
       "      <th>Title</th>\n",
       "      <th>Certificate</th>\n",
       "      <th>Duration</th>\n",
       "      <th>Genre</th>\n",
       "      <th>Rate</th>\n",
       "      <th>Metascore</th>\n",
       "      <th>Description</th>\n",
       "      <th>Cast</th>\n",
       "      <th>Info</th>\n",
       "      <th>embeddings</th>\n",
       "      <th>similarity</th>\n",
       "    </tr>\n",
       "  </thead>\n",
       "  <tbody>\n",
       "    <tr>\n",
       "      <th>228</th>\n",
       "      <td>228</td>\n",
       "      <td>231. No Country for Old Men (2007)</td>\n",
       "      <td>R</td>\n",
       "      <td>122 min</td>\n",
       "      <td>Crime, Drama, Thriller</td>\n",
       "      <td>8.1</td>\n",
       "      <td>91.0</td>\n",
       "      <td>Violence and mayhem ensue after a hunter stumb...</td>\n",
       "      <td>Directors: Ethan Coen, Joel Coen | Stars: Tomm...</td>\n",
       "      <td>Votes: 838,551 | Gross: $74.28M</td>\n",
       "      <td>[-0.0059683131985366344, 0.02555251121520996, ...</td>\n",
       "      <td>0.212749</td>\n",
       "    </tr>\n",
       "  </tbody>\n",
       "</table>\n",
       "</div>"
      ],
      "text/plain": [
       "     Unnamed: 0                               Title Certificate Duration  \\\n",
       "228         228  231. No Country for Old Men (2007)           R  122 min   \n",
       "\n",
       "                      Genre  Rate  Metascore  \\\n",
       "228  Crime, Drama, Thriller   8.1       91.0   \n",
       "\n",
       "                                           Description  \\\n",
       "228  Violence and mayhem ensue after a hunter stumb...   \n",
       "\n",
       "                                                  Cast  \\\n",
       "228  Directors: Ethan Coen, Joel Coen | Stars: Tomm...   \n",
       "\n",
       "                                Info  \\\n",
       "228  Votes: 838,551 | Gross: $74.28M   \n",
       "\n",
       "                                            embeddings  similarity  \n",
       "228  [-0.0059683131985366344, 0.02555251121520996, ...    0.212749  "
      ]
     },
     "execution_count": 16,
     "metadata": {},
     "output_type": "execute_result"
    }
   ],
   "source": [
    "df[df['Title'] == '97. Snatch (2000)']\n",
    "df[df['Title'] == '231. No Country for Old Men (2007)']"
   ]
  }
 ],
 "metadata": {
  "kernelspec": {
   "display_name": "Python 3",
   "language": "python",
   "name": "python3"
  },
  "language_info": {
   "codemirror_mode": {
    "name": "ipython",
    "version": 3
   },
   "file_extension": ".py",
   "mimetype": "text/x-python",
   "name": "python",
   "nbconvert_exporter": "python",
   "pygments_lexer": "ipython3",
   "version": "3.10.11"
  }
 },
 "nbformat": 4,
 "nbformat_minor": 2
}
